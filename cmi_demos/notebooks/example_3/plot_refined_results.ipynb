{
 "cells": [
  {
   "cell_type": "code",
   "execution_count": null,
   "metadata": {
    "pycharm": {
     "name": "#%%\n"
    }
   },
   "outputs": [],
   "source": [
    "#!/usr/bin/env python\n",
    "###################################\n",
    "#                                 #\n",
    "# File coded by: Robert J. Koch   #\n",
    "#                                 #\n",
    "###################################\n",
    "#\n",
    "# Example 3 Refining PDFs from SrFe2As2 to investigate phase transformation\n",
    "#\n",
    "# This python script will help you parse out the refined information.\n",
    "# Example 3 needs to be run before running this script.\n",
    "#\n",
    "# Import packages that we will need.\n",
    "from pathlib import Path\n",
    "import yaml\n",
    "import sys\n",
    "from pprint import pprint\n",
    "\n",
    "import matplotlib.pyplot as plt"
   ]
  },
  {
   "cell_type": "code",
   "execution_count": null,
   "metadata": {
    "pycharm": {
     "name": "#%%\n"
    }
   },
   "outputs": [],
   "source": [
    "WORK_DIR = Path()\n",
    "\n",
    "# This is the same as in the refinement file.\n",
    "FIT_ID_BASE = \"Fit_SrFe2As2_\"\n",
    "\n",
    "# This is where we will save the plots we make here.\n",
    "T_SRIES_PLOT_DIR = WORK_DIR / \"T_series_plots\""
   ]
  },
  {
   "cell_type": "code",
   "execution_count": null,
   "metadata": {
    "pycharm": {
     "name": "#%%\n"
    }
   },
   "outputs": [],
   "source": [
    "yaml_file = WORK_DIR / (FIT_ID_BASE + \"refined_params.yml\")\n",
    "# We now read a dictionary from a file, if it exists\n",
    "# This .yaml file should have been created after running tutorial 3.\n",
    "if yaml_file.exists():\n",
    "    with open(yaml_file, 'r') as infile:\n",
    "        refined_dict = yaml.safe_load(infile)\n",
    "\n",
    "# If the file doesn't exist, print a message to the terminal and exit\n",
    "elif not yaml_file.exists():\n",
    "    print(f\"{yaml_file.name} does not exist!\")\n",
    "\n",
    "\n",
    "# Make a place to put the saved plots if one doesn't exist.\n",
    "if not T_SRIES_PLOT_DIR.exists():\n",
    "    T_SRIES_PLOT_DIR.mkdir()"
   ]
  },
  {
   "cell_type": "code",
   "execution_count": null,
   "metadata": {},
   "outputs": [],
   "source": [
    "pprint(list(refined_dict.keys()))"
   ]
  },
  {
   "cell_type": "code",
   "execution_count": null,
   "metadata": {},
   "outputs": [],
   "source": [
    "pprint(list(refined_dict['Fmmm'].keys()))"
   ]
  },
  {
   "cell_type": "code",
   "execution_count": null,
   "metadata": {},
   "outputs": [],
   "source": [
    "pprint(refined_dict['Fmmm'][150])"
   ]
  },
  {
   "cell_type": "code",
   "execution_count": null,
   "metadata": {
    "pycharm": {
     "name": "#%%\n"
    }
   },
   "outputs": [],
   "source": [
    "# Close any plots if they're open already.\n",
    "plt.clf()\n",
    "plt.close('all')\n",
    "\n",
    "# Create a subplot axis.\n",
    "fig, ax = plt.subplots(1, 1)\n",
    "\n",
    "# Let's look at the c lattice parameter.\n",
    "var_name = \"c\"\n",
    "\n",
    "# We loop over all the structures we considered\n",
    "# In this case it's just two.\n",
    "for structure in refined_dict.keys():\n",
    "\n",
    "    # We get the x values we want to plot against\n",
    "    # Here, it's the temperature.\n",
    "    xs = [temp for temp in refined_dict[structure].keys()]\n",
    "\n",
    "    # We get the y values we want to plot\n",
    "    # Here, it's defined by the string in \"var_name\"\n",
    "    # above, or the c lattice parameter.\n",
    "    ys = [refined_dict[structure][temp][var_name][\"value\"] for\n",
    "           temp in refined_dict[structure].keys()]\n",
    "\n",
    "    # In case they aren't sorted, we sort by temperature (x).\n",
    "    xs, ys= zip(*sorted(zip(xs, ys)))\n",
    "\n",
    "    # Plot the data, using the structure type as the label.\n",
    "    ax.plot(xs,\n",
    "            ys,\n",
    "            '-o',\n",
    "            label=f\"{structure}\")\n",
    "\n",
    "# Outside the loop, we label the axes.\n",
    "ax.set_xlabel('Temperature (K)')\n",
    "ax.set_ylabel(r\"Lattice parameter, c ($\\rm \\AA$)\")\n",
    "\n",
    "# Outside the loop, we create a legend.\n",
    "plt.legend()\n",
    "\n",
    "# And we show the plot.\n",
    "plt.show()\n",
    "\n",
    "fig.savefig(T_SRIES_PLOT_DIR / ('full_' + var_name + '_T.pdf'),\n",
    "            format='pdf')"
   ]
  },
  {
   "cell_type": "code",
   "execution_count": null,
   "metadata": {
    "pycharm": {
     "name": "#%%\n"
    }
   },
   "outputs": [],
   "source": [
    "# Close any plots if they're open already\n",
    "plt.clf()\n",
    "plt.close('all')\n",
    "\n",
    "\n",
    "# Create a subplot axis.\n",
    "fig, ax = plt.subplots(1, 1)\n",
    "\n",
    "# Let's look at the fit quality rw.\n",
    "var_name = \"rw\"\n",
    "\n",
    "# We loop over all the structures we considered\n",
    "# In this case it's just two.\n",
    "for structure in refined_dict.keys():\n",
    "\n",
    "    # We get the x values we want to plot against\n",
    "    # Here, it's the temperature.\n",
    "    xs = [temp for temp in refined_dict[structure].keys()]\n",
    "\n",
    "    # We get the y values we want to plot\n",
    "    # Here, it's defined by the string in \"var_name\"\n",
    "    # above, or rw.\n",
    "    ys = [refined_dict[structure][temp][var_name] for\n",
    "           temp in refined_dict[structure].keys()]\n",
    "\n",
    "    # In case they aren't sorted, we sort by temperature (x).\n",
    "    xs, ys= zip(*sorted(zip(xs, ys)))\n",
    "\n",
    "    # Plot the data, using the structure type as the label.\n",
    "    ax.plot(xs,\n",
    "            ys,\n",
    "            '-o',\n",
    "            label=structure)\n",
    "\n",
    "# Outside the loop, we label the axes.\n",
    "ax.set_xlabel('Temperature (K)')\n",
    "ax.set_ylabel(r\"$\\rm R_w$\")\n",
    "\n",
    "# Outside the loop, we create a legend.\n",
    "plt.legend()\n",
    "\n",
    "# And we show the plot.\n",
    "plt.show()\n",
    "\n",
    "fig.savefig(T_SRIES_PLOT_DIR / ('full_' + var_name + '_T.pdf'),\n",
    "            format='pdf')"
   ]
  },
  {
   "cell_type": "code",
   "execution_count": null,
   "metadata": {
    "pycharm": {
     "name": "#%%\n"
    }
   },
   "outputs": [],
   "source": [
    "# Close any plots if they're open already\n",
    "plt.clf()\n",
    "plt.close('all')\n",
    "\n",
    "# Create a subplot axis\n",
    "fig, ax = plt.subplots(1, 1)\n",
    "\n",
    "structure = \"Fmmm\"\n",
    "\n",
    "var_name = \"a\"\n",
    "a_params = [refined_dict[structure][temp][var_name][\"value\"]\n",
    "            for temp in refined_dict[structure].keys()]\n",
    "\n",
    "var_name = \"b\"\n",
    "b_params = [refined_dict[structure][temp][var_name][\"value\"]\n",
    "            for temp in refined_dict[structure].keys()]\n",
    "\n",
    "\n",
    "xs = [temp for temp in refined_dict[structure].keys()]\n",
    "\n",
    "ys = [100*(a-b)/(0.5*(a+b)) for\n",
    "      a, b in zip(a_params, b_params)]\n",
    "\n",
    "xs, ys = zip(*sorted(zip(xs, ys)))\n",
    "\n",
    "ax.plot(xs,\n",
    "        ys,\n",
    "        '-o')\n",
    "\n",
    "ax.set_xlabel('Temperature (K)')\n",
    "ax.set_ylabel(r\"Orthorhombicity (%)\")\n",
    "\n",
    "ax.set_ylim(bottom=0)\n",
    "plt.show()\n",
    "\n",
    "fig.savefig(T_SRIES_PLOT_DIR / 'orthorhombicity_T.pdf',\n",
    "            format='pdf')\n",
    "\n",
    "\n"
   ]
  }
 ],
 "metadata": {
  "kernelspec": {
   "display_name": "Python 3",
   "language": "python",
   "name": "python3"
  },
  "language_info": {
   "codemirror_mode": {
    "name": "ipython",
    "version": 3
   },
   "file_extension": ".py",
   "mimetype": "text/x-python",
   "name": "python",
   "nbconvert_exporter": "python",
   "pygments_lexer": "ipython3",
   "version": "3.7.3"
  },
  "pycharm": {
   "stem_cell": {
    "cell_type": "raw",
    "metadata": {
     "collapsed": false
    },
    "source": []
   }
  }
 },
 "nbformat": 4,
 "nbformat_minor": 1
}
