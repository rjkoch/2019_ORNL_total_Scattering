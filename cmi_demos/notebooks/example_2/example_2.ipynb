{
 "cells": [
  {
   "cell_type": "code",
   "execution_count": null,
   "metadata": {
    "pycharm": {
     "name": "#%%\n"
    }
   },
   "outputs": [],
   "source": [
    "#!/usr/bin/env python\n",
    "###################################\n",
    "#                                 #\n",
    "# File coded by: Robert J. Koch   #\n",
    "#                                 #\n",
    "###################################\n",
    "#\n",
    "# Example 2, Refining PDF from nanocrystalline platinum to obtain\n",
    "# an estimate for the nanoparticle (NP) size, as well as the atomic structure.\n",
    "#\n",
    "# This Diffpy-CMI script will carry out a structural refinement of a measured\n",
    "# PDF from nanocrystalline platinum.  It is explicitly uses the instrumental parameters\n",
    "# found in tutorial 1, and requires that the output files of this tutorial\n",
    "# are present in a specific location.\n",
    "#\n",
    "# Comments in this Example will be less verbose than in Example 1. \n",
    "#\n",
    "# Import packages that we will need.\n",
    "from pathlib import Path\n",
    "import yaml\n",
    "import pyjokes\n",
    "import sys\n",
    "sys.path.append(str(Path().absolute().parent.parent.parent))\n",
    "\n",
    "from diffpy.srfit.fitbase import FitResults\n",
    "from diffpy.structure.parsers import getParser\n",
    "from scipy.optimize import least_squares\n",
    "from cmi_demos.utils.helpers import makerecipe\n",
    "from cmi_demos.utils.helpers import plotresults\n",
    "print(pyjokes.get_joke())"
   ]
  },
  {
   "cell_type": "code",
   "execution_count": null,
   "metadata": {
    "pycharm": {
     "name": "#%%\n"
    }
   },
   "outputs": [],
   "source": [
    "############### Config ##############################\n",
    "# Give a file path to where your pdf (.gr) and (.cif) files are located.\n",
    "DPATH = Path(\"data\")\n",
    "\n",
    "# Give an identifying name for the refinement, similar\n",
    "# to what you would name a fit tree in PDFGui.\n",
    "FIT_ID = \"Fit_Pt_NP\"\n",
    "\n",
    "# Specify the names of the input PDF and cif files.\n",
    "GR_NAME = \"Pt-nanoparticles.gr\"\n",
    "CIF_NAME = \"Pt.cif\"\n",
    "\n",
    "print(pyjokes.get_joke())"
   ]
  },
  {
   "cell_type": "code",
   "execution_count": null,
   "metadata": {
    "pycharm": {
     "name": "#%%\n"
    }
   },
   "outputs": [],
   "source": [
    "######## Experimental PDF Config ######################\n",
    "# Specify the min, max, and step r-values of the PDF (that we want to fit over)\n",
    "# also, specify the Q_max and Q_min values used to reduce the PDF.\n",
    "PDF_RMIN = 1.5\n",
    "PDF_RMAX = 50\n",
    "PDF_RSTEP = 0.01\n",
    "QMAX = 25\n",
    "QMIN = 0.1\n",
    "\n",
    "########PDF initialize refinable variables #############\n",
    "# We explicitly specify the lattice parameters, scale,\n",
    "# isotropic thermal parameters, and a correlated motion parameter.\n",
    "CUBICLAT_I = 3.9\n",
    "SCALE_I = 0.6\n",
    "UISO_I = 0.01\n",
    "DELTA2_I = 4\n",
    "\n",
    "# For the NP case, we also provide an initial guess\n",
    "# for the average crystallite size, in Angstroms.\n",
    "PSIZE_I = 40\n",
    "\n",
    "print(pyjokes.get_joke())"
   ]
  },
  {
   "cell_type": "code",
   "execution_count": null,
   "metadata": {
    "pycharm": {
     "name": "#%%\n"
    }
   },
   "outputs": [],
   "source": [
    "# First, let's read the fit results from the Ni fit.\n",
    "# We parse out the refined values of Q_damp and Q_broad,\n",
    "# instrumental parameters which will be fixed in this fit.\n",
    "\n",
    "# We specify where to look for the fit results files, as well as\n",
    "# a name of the file.\n",
    "STANDARD_DIR = Path().absolute().parent / \"example_1\"\n",
    "NIBASENAME = \"Fit_Ni_Bulk\"\n",
    "\n",
    "STANDARD_RES_FILE = (STANDARD_DIR / (NIBASENAME + \".yml\"))\n",
    "\n",
    "print(pyjokes.get_joke())"
   ]
  },
  {
   "cell_type": "code",
   "execution_count": null,
   "metadata": {
    "pycharm": {
     "name": "#%%\n"
    }
   },
   "outputs": [],
   "source": [
    "# First, check of the file even exists\n",
    "if STANDARD_RES_FILE.exists():\n",
    "\n",
    "    # If it exists, let's open it and load the dictionary\n",
    "    with open(STANDARD_RES_FILE, 'r') as infile:\n",
    "        ni_dict = yaml.safe_load(infile)\n",
    "\n",
    "    # If we find either of these strings in the dictionary, we load it\n",
    "    if \"Calib_Qbroad\" in ni_dict:\n",
    "        # ... we grab the value.\n",
    "        QBROAD_I = ni_dict[\"Calib_Qbroad\"][\"value\"]\n",
    "\n",
    "    if \"Calib_Qdamp\" in ni_dict:\n",
    "        # ... we grab the value.\n",
    "        QDAMP_I = ni_dict[\"Calib_Qdamp\"][\"value\"]\n",
    "\n",
    "    # If we don't find these strings, something is wrong...            \n",
    "    if \"Calib_Qbroad\" not in ni_dict or \"Calib_Qdamp\" not in ni_dict:\n",
    "        \n",
    "        # ... so we print a warning to the terminal...\n",
    "        print(f\"\\nWe did not find instrumental parameters in\"\n",
    "              f\"{STANDARD_RES_FILE}. Please make sure tutorial 1 has been\")\n",
    "\n",
    "        # ...and we exit the script with code \"1,\" meaning abnormal termination\n",
    "        sys.exit(1)\n",
    "        \n",
    "# If the fit result file does not exist, something is wrong.\n",
    "else:\n",
    "\n",
    "    # We print a warning to the terminal...\n",
    "    print(\"\\nTutorial 1, which refines instrumental parameters, \"\n",
    "          \"does not appear to have been run.\\nThese instrumental \"\n",
    "          \"parameters are necessary to run this tutorial.\\n\"\n",
    "          \"Please run tutorial 1 first\")\n",
    "\n",
    "    # ...and we exit the script with code \"1,\" meaning abnormal termination\n",
    "    sys.exit(1)\n",
    "\n",
    "print(pyjokes.get_joke())"
   ]
  },
  {
   "cell_type": "code",
   "execution_count": null,
   "metadata": {
    "pycharm": {
     "name": "#%%\n"
    }
   },
   "outputs": [],
   "source": [
    "print(f\"Q_damp is {QDAMP_I}!\\n\")\n",
    "\n",
    "print(f\"Q_broad is {QBROAD_I}!\\n\")\n",
    "\n",
    "print(pyjokes.get_joke())"
   ]
  },
  {
   "cell_type": "code",
   "execution_count": null,
   "metadata": {},
   "outputs": [],
   "source": [
    "# Make some folders to store our output files.\n",
    "resdir = Path(\"res\")\n",
    "fitdir = Path(\"fit\")\n",
    "figdir = Path(\"fig\")\n",
    "\n",
    "folders = [resdir, fitdir, figdir]\n",
    "\n",
    "# Loop over all folders\n",
    "for folder in folders:\n",
    "\n",
    "    # If the folder does not exist...\n",
    "    if not folder.exists():\n",
    "\n",
    "        # ...then we create it.\n",
    "        folder.mkdir()\n",
    "\n",
    "# Let the user know what fit we are running by printing to terminal.\n",
    "basename = FIT_ID\n",
    "print(f\"\\n{basename}\\n\")\n",
    "\n",
    "# Establish the full location of the data.\n",
    "data = DPATH / GR_NAME\n",
    "\n",
    "# Establish the location of the cif file with the structure of interest\n",
    "# and load it into a diffpy structure object.\n",
    "strudir = DPATH\n",
    "cif_file = strudir / CIF_NAME\n",
    "\n",
    "print(pyjokes.get_joke())"
   ]
  },
  {
   "cell_type": "code",
   "execution_count": null,
   "metadata": {},
   "outputs": [],
   "source": [
    "p_cif = getParser('cif')\n",
    "structure = p_cif.parseFile(str(cif_file))\n",
    "space_group = p_cif.spacegroup.short_name\n",
    "\n",
    "# Initialize the Fit Recipe by giving it this diffpy structure\n",
    "# as well as the path to the data file.\n",
    "recipe = makerecipe(cif_file, data)\n",
    "\n",
    "print(pyjokes.get_joke())"
   ]
  },
  {
   "cell_type": "code",
   "execution_count": null,
   "metadata": {},
   "outputs": [],
   "source": [
    "# Let's set the calculation range!\n",
    "recipe.crystal.profile.setCalculationRange(xmin=PDF_RMIN, xmax=PDF_RMAX, dx=PDF_RSTEP)\n",
    "\n",
    "# Add, initialize, and tag variables in the Fit Recipe object.\n",
    "# In this case we also add psize, which is the NP size.\n",
    "recipe.addVar(recipe.crystal.s1, SCALE_I, tag=\"scale\")\n",
    "\n",
    "\n",
    "# Set an equation, based on your PDF generators. Here we add an extra layer\n",
    "# of complexity, incorporating \"f\" int our equation. This new term\n",
    "# incorporates damping to our PDF to model the effect of finite crystallite size.\n",
    "# In this case we use a function which models a spherical NP.\n",
    "from diffpy.srfit.pdf.characteristicfunctions import sphericalCF\n",
    "recipe.crystal.registerFunction(sphericalCF, name=\"f\")\n",
    "recipe.crystal.setEquation(\"s1*G1*f\")\n",
    "\n",
    "recipe.addVar(recipe.crystal.psize, PSIZE_I, tag=\"psize\")"
   ]
  },
  {
   "cell_type": "code",
   "execution_count": null,
   "outputs": [],
   "source": [
    "# Initialize the instrument parameters, Q_damp and Q_broad, and\n",
    "# assign Q_max and Q_min.\n",
    "# Note, here we do not add the qdamp and qbroad parameters to the fit!!!\n",
    "# They are fixed here, because we refined them in the Ni standard fit!\n",
    "recipe.crystal.G1.qdamp.value = QDAMP_I\n",
    "recipe.crystal.G1.qbroad.value = QBROAD_I\n",
    "recipe.crystal.G1.setQmax(QMAX)\n",
    "recipe.crystal.G1.setQmin(QMIN)\n",
    "print(pyjokes.get_joke())"
   ],
   "metadata": {
    "collapsed": false,
    "pycharm": {
     "name": "#%%\n"
    }
   }
  },
  {
   "cell_type": "code",
   "execution_count": null,
   "outputs": [],
   "source": [
    "print(f\"\\n{recipe.show()}\\n\")"
   ],
   "metadata": {
    "collapsed": false,
    "pycharm": {
     "name": "#%%\n"
    }
   }
  },
  {
   "cell_type": "code",
   "execution_count": null,
   "metadata": {},
   "outputs": [],
   "source": [
    "# Use the srfit function constrainAsSpaceGroup to constrain\n",
    "# the lattice and ADP parameters according to the Fm-3m space group.\n",
    "from diffpy.srfit.structure import constrainAsSpaceGroup\n",
    "spacegroupparams = constrainAsSpaceGroup(recipe.crystal.G1.phase,\n",
    "                                         space_group)\n",
    "\n",
    "# Add and initialize delta, the lattice parameter, and a thermal parameter,\n",
    "# but not instrumental parameters to Fit Recipe.\n",
    "# The instrumental parameters will remain fixed at values obtained from\n",
    "# the Ni calibrant in our previous example. As we have not added them through\n",
    "# recipe.addVar, they cannot be refined.\n",
    "for par in spacegroupparams.latpars:\n",
    "    recipe.addVar(par,\n",
    "                  value=CUBICLAT_I,\n",
    "                  name=\"fcc_Lat\",\n",
    "                  tag=\"lat\")\n",
    "\n",
    "for par in spacegroupparams.adppars:\n",
    "    recipe.addVar(par,\n",
    "                  value=UISO_I,\n",
    "                  name=\"fcc_ADP\",\n",
    "                  tag=\"adp\")\n",
    "\n",
    "recipe.addVar(recipe.crystal.G1.delta2,\n",
    "              name=\"Pt_Delta2\",\n",
    "              value=DELTA2_I,\n",
    "              tag=\"d2\")\n",
    "\n",
    "print(pyjokes.get_joke())"
   ]
  },
  {
   "cell_type": "code",
   "execution_count": null,
   "metadata": {},
   "outputs": [],
   "source": [
    "print(f\"\\n{recipe.show()}\\n\")"
   ]
  },
  {
   "cell_type": "code",
   "execution_count": null,
   "metadata": {},
   "outputs": [],
   "source": [
    "recipe.residual()\n",
    "plotresults(recipe,\"test\")\n",
    "print(pyjokes.get_joke())"
   ]
  },
  {
   "cell_type": "code",
   "execution_count": null,
   "metadata": {},
   "outputs": [],
   "source": [
    "# Tell the Fit Recipe we want to write the maximum amount of\n",
    "# information to the terminal during fitting.\n",
    "recipe.fithooks[0].verbose = 0\n",
    "\n",
    "refine_params = [\"scale\", \"lat\", \"psize\", \"adp\", \"d2\", \"all\"]\n",
    "\n",
    "recipe.fix(\"all\")\n",
    "\n",
    "for params in refine_params:\n",
    "    input(\"\\nPress enter to continue...\")\n",
    "    plotresults(recipe,\"test\")\n",
    "    recipe.free(params)\n",
    "    print(f\"\\n****\\nFitting {recipe.getNames()} against \"\n",
    "          f\"{GR_NAME} with {CIF_NAME}\\n\")\n",
    "    least_squares(recipe.residual, recipe.values, x_scale=\"jac\")"
   ]
  },
  {
   "cell_type": "code",
   "execution_count": null,
   "metadata": {},
   "outputs": [],
   "source": [
    "# We use the savetxt method of the profile to write a text file\n",
    "# containing the measured and fitted PDF to disk.\n",
    "# The file is named based on the basename we created earlier, and\n",
    "# written to the fitdir directory.\n",
    "profile = recipe.crystal.profile\n",
    "profile.savetxt(fitdir / (basename + \".fit\"))\n",
    "\n",
    "# We use the FitResults function to parse out the results from\n",
    "# the optimized Fit Recipe.\n",
    "res = FitResults(recipe)\n",
    "\n",
    "# We print these results to the terminal.\n",
    "res.printResults()\n",
    "\n",
    "print(pyjokes.get_joke())"
   ]
  },
  {
   "cell_type": "code",
   "execution_count": null,
   "metadata": {},
   "outputs": [],
   "source": [
    "# We grab the fit Rw\n",
    "rw = res.rw\n",
    "print(f\"\\nR_W is {rw}!\")\n",
    "print(f\"\\nLook at you, fitting nanoparticle data with python! Pretty nifty...\\n\")"
   ]
  },
  {
   "cell_type": "code",
   "execution_count": null,
   "outputs": [],
   "source": [
    "# We use the saveResults method of FitResults to write a text file\n",
    "# containing the fitted parameters and fit quality indices to disk.\n",
    "# The file is named based on the basename we created earlier, and\n",
    "# written to the resdir directory.\n",
    "header = \"crystal_HF.\\n\"\n",
    "res.saveResults(resdir / (basename + \".res\"), header=header)\n",
    "\n",
    "# We use the plotresults function we created earlier to make a plot of\n",
    "# the measured, calculated, and difference curves. We show this\n",
    "# as an interactive window and then write a pdf file to disk.\n",
    "# The file is named based on the basename we created earlier, and\n",
    "# written to the figdir directory.\n",
    "plotresults(recipe, figdir / basename)\n",
    "# plt.ion()\n",
    "\n",
    "print(pyjokes.get_joke())"
   ],
   "metadata": {
    "collapsed": false,
    "pycharm": {
     "name": "#%%\n"
    }
   }
  },
  {
   "cell_type": "code",
   "execution_count": null,
   "outputs": [],
   "source": [
    "print(f\"\\nThe variable names are {res.varnames}!\\n\")\n",
    "print(f\"\\nTheir values are {res.varvals}!\\n\")"
   ],
   "metadata": {
    "collapsed": false,
    "pycharm": {
     "name": "#%%\n"
    }
   }
  },
  {
   "cell_type": "code",
   "execution_count": null,
   "outputs": [],
   "source": [
    "# Let make a dictionary to hold our results. This way make reloading the\n",
    "# fit parameters easier later\n",
    "refined_dict = dict()\n",
    "\n",
    "# Let's store the fit quality in our dictionary\n",
    "refined_dict['rw'] = rw.item()\n",
    "\n",
    "# We loop over the variable names, the variable values, and the variable uncertainties (esd)\n",
    "for name, val, unc in zip(res.varnames, res.varvals, res.varunc):\n",
    "    # We store the refined value for this variable using the \"value\" key.\n",
    "    # We use the \".item()\" method because \"res.varvals\" exist as\n",
    "    # numpy.float64 objects, and we want them as regular python floats.\n",
    "    if name not in refined_dict:\n",
    "        refined_dict[name] = dict()\n",
    "    refined_dict[name][\"value\"] = val.item()\n",
    "    refined_dict[name][\"uncert\"] = unc.item()"
   ],
   "metadata": {
    "collapsed": false,
    "pycharm": {
     "name": "#%%\n"
    }
   }
  },
  {
   "cell_type": "code",
   "execution_count": null,
   "outputs": [],
   "source": [
    "# Finally, let's write our dictionary to a yaml file!\n",
    "with open(basename + \".yml\", 'w') as outfile:\n",
    "    yaml.safe_dump(refined_dict, outfile)\n",
    "\n",
    "print(pyjokes.get_joke())"
   ],
   "metadata": {
    "collapsed": false,
    "pycharm": {
     "name": "#%%\n"
    }
   }
  }
 ],
 "metadata": {
  "kernelspec": {
   "display_name": "Python 3",
   "language": "python",
   "name": "python3"
  },
  "language_info": {
   "codemirror_mode": {
    "name": "ipython",
    "version": 3
   },
   "file_extension": ".py",
   "mimetype": "text/x-python",
   "name": "python",
   "nbconvert_exporter": "python",
   "pygments_lexer": "ipython3",
   "version": "3.7.3"
  },
  "pycharm": {
   "stem_cell": {
    "cell_type": "raw",
    "source": [],
    "metadata": {
     "collapsed": false
    }
   }
  }
 },
 "nbformat": 4,
 "nbformat_minor": 1
}